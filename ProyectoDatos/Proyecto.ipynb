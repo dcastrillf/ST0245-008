{
  "nbformat": 4,
  "nbformat_minor": 0,
  "metadata": {
    "colab": {
      "name": "Proyecto.ipynb",
      "provenance": [],
      "collapsed_sections": [
        "uy4ZaMgM4h7f",
        "gFkXdU6gayF9"
      ],
      "toc_visible": true
    },
    "kernelspec": {
      "name": "python3",
      "display_name": "Python 3"
    }
  },
  "cells": [
    {
      "cell_type": "markdown",
      "metadata": {
        "id": "E7JuKNDh9Lon"
      },
      "source": [
        "# **Entrada**"
      ]
    },
    {
      "cell_type": "code",
      "metadata": {
        "id": "W-jC_6Br74I7"
      },
      "source": [
        "import pandas as pd\n",
        "\n",
        "\n",
        "def datos(data):\n",
        "    \n",
        "    file =  pd.read_csv(data + \".csv\", sep = \";\", header =0)\n",
        "    \n",
        "    file = file[[\"estu_consecutivo.1\",\"punt_lenguaje\",\"punt_matematicas\",\"punt_biologia\",\"punt_quimica\",\n",
        "                   \"punt_fisica\",\"punt_ciencias_sociales\",\"punt_filosofia\",\"punt_ingles\",\"exito\"\n",
        "                   ]]\n",
        "    \n",
        "    file[\"exito\"] = file[\"exito\"].replace({1: True, 0: False})\n",
        "    \n",
        "    \n",
        "    return file\n",
        "\n",
        "def datosEntrenamiento(data):\n",
        "    \n",
        "    file =  pd.read_csv(data + \".csv\", sep = \";\", header =0)\n",
        "    \n",
        "    file = file[[\"punt_lenguaje\",\"punt_matematicas\",\"punt_biologia\",\"punt_quimica\",\n",
        "                   \"punt_fisica\",\"punt_ciencias_sociales\",\"punt_filosofia\",\"punt_ingles\",\"exito\"\n",
        "                   ]]\n",
        "    \n",
        "    file[\"exito\"] = file[\"exito\"].replace({1: True, 0: False})\n",
        "    \n",
        "    \n",
        "    return file"
      ],
      "execution_count": 2,
      "outputs": []
    },
    {
      "cell_type": "code",
      "metadata": {
        "id": "wnTqrdVWAglK",
        "colab": {
          "resources": {
            "http://localhost:8080/nbextensions/google.colab/files.js": {
              "data": "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",
              "ok": true,
              "headers": [
                [
                  "content-type",
                  "application/javascript"
                ]
              ],
              "status": 200,
              "status_text": ""
            }
          },
          "base_uri": "https://localhost:8080/",
          "height": 73
        },
        "outputId": "7836cb61-dcf6-483e-f9a4-b68a8da96c28"
      },
      "source": [
        "from google.colab import files\n",
        "uploades = files.upload()"
      ],
      "execution_count": 20,
      "outputs": [
        {
          "output_type": "display_data",
          "data": {
            "text/html": [
              "\n",
              "     <input type=\"file\" id=\"files-60fb6102-4144-4e89-8860-177a4901595e\" name=\"files[]\" multiple disabled\n",
              "        style=\"border:none\" />\n",
              "     <output id=\"result-60fb6102-4144-4e89-8860-177a4901595e\">\n",
              "      Upload widget is only available when the cell has been executed in the\n",
              "      current browser session. Please rerun this cell to enable.\n",
              "      </output>\n",
              "      <script src=\"/nbextensions/google.colab/files.js\"></script> "
            ],
            "text/plain": [
              "<IPython.core.display.HTML object>"
            ]
          },
          "metadata": {
            "tags": []
          }
        },
        {
          "output_type": "stream",
          "text": [
            "Saving TEST 4.csv to TEST 4.csv\n"
          ],
          "name": "stdout"
        }
      ]
    },
    {
      "cell_type": "markdown",
      "metadata": {
        "id": "uy4ZaMgM4h7f"
      },
      "source": [
        "# **Arbol**"
      ]
    },
    {
      "cell_type": "code",
      "metadata": {
        "id": "m7MtVGceK6H-"
      },
      "source": [
        "class Nodo:\n",
        "  def __init__(self,pregunta,entropia,probabilidad,decision=None):\n",
        "      self.pregunta = pregunta\n",
        "      self.entropia = entropia\n",
        "      self.probabilidad  = probabilidad\n",
        "      self.decision = decision\n",
        "      self.izquierda = None\n",
        "      self.derecha = None\n",
        "class Arbol:\n",
        "    def __init__(self):\n",
        "        self.raiz= None\n",
        "\n",
        "    def retornarRaiz(self):\n",
        "      return self.raiz   \n",
        "\n",
        "    def agregar(self,val,root,deci,decision1=None):\n",
        "        if deci==None:\n",
        "            self.raiz = Nodo(val[0],val[1],val[2],decision1)\n",
        "            return  self.raiz\n",
        "        else:\n",
        "          if deci ==True:\n",
        "            root.derecha = Nodo(val[0],val[1],val[2],decision1)\n",
        "            return  root.derecha\n",
        "          elif deci==False:\n",
        "            root.izquierda = Nodo(val[0],val[1],val[2],decision1)\n",
        "            return  root.izquierda\n",
        "    "
      ],
      "execution_count": 3,
      "outputs": []
    },
    {
      "cell_type": "markdown",
      "metadata": {
        "id": "9lQYibmtBKYj"
      },
      "source": [
        "# **Metodos Auxiliares**"
      ]
    },
    {
      "cell_type": "code",
      "metadata": {
        "id": "tYdNsva1IJGF"
      },
      "source": [
        "class Question:\n",
        "    \n",
        "    def __init__(self,column,value):\n",
        "        if column == \"\":\n",
        "          self.column = column\n",
        "          self.value  = value\n",
        "          self.imprimir =   \"Hoja\"\n",
        "        else:\n",
        "          self.column = column\n",
        "          self.value  = value\n",
        "          self.imprimir =   \"Es %s >= %s?\" % (self.column, str(self.value)) \n",
        "    def match(self,example):\n",
        "        if is_numeric(example):\n",
        "            return example >= self.value\n",
        "        else:\n",
        "            return example == self.value\n",
        "    \n",
        "    def __repr__(self):\n",
        "        condition =\"==\"\n",
        "        if is_numeric(self.value):\n",
        "            condition=\">=\"\n",
        "        return \"Es %s %s %s?\" % (self.column, condition, str(self.value))\n",
        "     \n",
        "\n",
        "def is_numeric(value):\n",
        "    return isinstance(value,int) or isinstance(value,float)"
      ],
      "execution_count": 4,
      "outputs": []
    },
    {
      "cell_type": "code",
      "metadata": {
        "id": "2wVlrMVKLRZZ"
      },
      "source": [
        "def partition(index,value,dataset):\n",
        "    question = Question(index,value)\n",
        "    filtro = (dataset[index]>=value)\n",
        "    right = pd.DataFrame(dataset.loc[filtro])\n",
        "\n",
        "    filtro1 = (dataset[index]<value)\n",
        "    left = pd.DataFrame(dataset.loc[filtro1])\n",
        "    \n",
        "    left = left.drop([index],axis=1)\n",
        "    right = right.drop([index],axis=1)\n",
        "\n",
        "    right = right.reset_index(drop = True)\n",
        "    left = left.reset_index(drop = True)\n",
        "    \n",
        "    return left, right"
      ],
      "execution_count": 5,
      "outputs": []
    },
    {
      "cell_type": "code",
      "metadata": {
        "id": "L2_VBHLLD0Vm"
      },
      "source": [
        "import math"
      ],
      "execution_count": 6,
      "outputs": []
    },
    {
      "cell_type": "code",
      "metadata": {
        "id": "ov8UdXw3BJyi"
      },
      "source": [
        "def targetcalculate(file):\n",
        "  file = file[\"exito\"]\n",
        "  size = file.size\n",
        "  true, false =0,0\n",
        "  filtro = (file==True)\n",
        "  trueData = pd.DataFrame(file.loc[filtro])\n",
        "  true = trueData[trueData.columns[0]].size\n",
        "\n",
        "  filtro1 = (file==False)\n",
        "  falseData = pd.DataFrame(file.loc[filtro1])\n",
        "  false = falseData[falseData.columns[0]].size\n",
        "  \n",
        "  partTrue, partFalse = 0,0\n",
        "  if true!=0:\n",
        "    partTrue = -(true/size)*math.log2((true/size))\n",
        "  if false!=0:\n",
        "    partFalse = (false/size)*math.log2((false/size))\n",
        "  target = partTrue-partFalse\n",
        "  return round(target,2)\n"
      ],
      "execution_count": 7,
      "outputs": []
    },
    {
      "cell_type": "code",
      "metadata": {
        "id": "2u5nUWzoGhxO"
      },
      "source": [
        "def entropia(file,column,cuestion,target):\n",
        "  falseData,trueData = partition(column,cuestion,file)\n",
        "  sizef = falseData[falseData.columns[0]].size\n",
        "  sizet = trueData[trueData.columns[0]].size\n",
        "  size = file[file.columns[0]].size\n",
        "  entropy = target-((sizef/size*targetcalculate(falseData))+(sizet/size*targetcalculate(trueData)))\n",
        "  return round(entropy,2)"
      ],
      "execution_count": 8,
      "outputs": []
    },
    {
      "cell_type": "code",
      "metadata": {
        "id": "gr6Dp618aEvW"
      },
      "source": [
        "def mejorDiv(file,target):\n",
        "    bestEntropy, bestsplit,bestcolumn = 0,0,\"\"\n",
        "    for i in range(0,file.columns.size-1):#iterator aumenta a partir de 1\n",
        "      column = file[file.columns[i]]\n",
        "      if is_numeric(column[0]):\n",
        "        entropy = entropia(file,file.columns[i],file.mean().iloc[i],target)\n",
        "        if entropy>bestEntropy:\n",
        "          bestEntropy= entropy\n",
        "          bestsplit = round(file.mean().iloc[i],2)\n",
        "          bestcolumn = file.columns[i]\n",
        "    return bestEntropy,bestsplit,bestcolumn"
      ],
      "execution_count": 9,
      "outputs": []
    },
    {
      "cell_type": "code",
      "metadata": {
        "id": "tc9C6Ua0ozoj"
      },
      "source": [
        "\n",
        "import numpy as np\n",
        "def seleccionarDatos(archivo):\n",
        "  p_train = 0.80\n",
        "  archivo['EsEntrenamiento'] = np.random.uniform(0, 1, len(archivo)) <= p_train\n",
        "  entrenamiento, prueba = archivo[archivo['EsEntrenamiento']==True], archivo[archivo['EsEntrenamiento']==False]\n",
        "  \n",
        "\n",
        "  entrenamientoFiltro = (archivo['EsEntrenamiento']==True) \n",
        "  datosEntrenamiento = pd.DataFrame(archivo.loc[entrenamientoFiltro])\n",
        "  datosEntrenamiento = datosEntrenamiento.reset_index(drop = True)\n",
        "  datosEntrenamiento = datosEntrenamiento.iloc[:,1:-1]\n",
        "\n",
        "  pruebaFiltro = (archivo['EsEntrenamiento']==False) \n",
        "  datosPrueba = pd.DataFrame(archivo.loc[pruebaFiltro])\n",
        "  datosPrueba = datosPrueba.reset_index(drop = True)\n",
        "  datosPrueba = datosPrueba.iloc[:,:-1]\n",
        "\n",
        "  return datosEntrenamiento,datosPrueba"
      ],
      "execution_count": 10,
      "outputs": []
    },
    {
      "cell_type": "code",
      "metadata": {
        "id": "fi75rf1HexTw"
      },
      "source": [
        "class Prediccion:\n",
        "  def __init__(self):\n",
        "    self.true = 0\n",
        "    self.false = 0\n",
        "\n",
        "  def prediccion(self,datos,datos_y,raiz,iterador):\n",
        "    if raiz.decision != None:\n",
        "      if raiz.decision == True and datos_y[\"exito\"].iloc[iterador]==True and datos[\"estu_consecutivo.1\"].iloc[iterador]==datos_y[\"estu_consecutivo.1\"].iloc[iterador]:\n",
        "        self.true += 1\n",
        "        return \n",
        "      elif raiz.decision ==False and datos_y[\"exito\"].iloc[iterador]==False and datos[\"estu_consecutivo.1\"].iloc[iterador]==datos_y[\"estu_consecutivo.1\"].iloc[iterador]:\n",
        "        self.false += 1\n",
        "        return \n",
        "    elif raiz.pregunta.match(datos[raiz.pregunta.column].iloc[iterador]) == True:\n",
        "      self.prediccion(datos,datos_y,raiz.derecha,iterador)\n",
        "    else:\n",
        "      self.prediccion(datos,datos_y,raiz.izquierda,iterador)\n",
        "  \n",
        "  def retornarTrue(self):\n",
        "    return self.true\n",
        "  \n",
        "  def retornarFalse(self):\n",
        "    return self.false"
      ],
      "execution_count": 11,
      "outputs": []
    },
    {
      "cell_type": "code",
      "metadata": {
        "id": "r4HV8xQNd9YZ"
      },
      "source": [
        "def predicciones(prueba,y_prueba):\n",
        "    predic = Prediccion()\n",
        "    tamaño = prueba[prueba.columns[0]].size\n",
        "    for i in range(0,tamaño):\n",
        "      predic.prediccion(prueba,y_prueba,tree.retornarRaiz(),i)\n",
        "    return predic.retornarTrue(), predic.retornarFalse()\n",
        "  "
      ],
      "execution_count": 12,
      "outputs": []
    },
    {
      "cell_type": "code",
      "metadata": {
        "id": "cHTwkG4JqK5Z"
      },
      "source": [
        "tree = Arbol()\n"
      ],
      "execution_count": 13,
      "outputs": []
    },
    {
      "cell_type": "code",
      "metadata": {
        "id": "nmn6v9tJRenH"
      },
      "source": [
        "def calcularMejorDiv(profundidad,dot,archivo,target,iterador,padre=None,probabil =None,valor=None):\n",
        "    x = mejorDiv(archivo,target)\n",
        "    if profundidad==1 and padre==None:\n",
        "      padre2 = tree.agregar([Question(x[2],x[1]),x[0],probabil],padre,valor,archivo[\"exito\"].describe().top)\n",
        "      cadena =  \"\\\" RAIZ \\\\n probabilidad =\"+str(probabil)+\"\\\\n Decision =\"+str(archivo[\"exito\"].describe().top)+\"\\\";\\n\"\n",
        "      dot.write(cadena)\n",
        "      if archivo[\"exito\"].describe().top == True:\n",
        "        cadena2 = \"\\\" RAIZ \\\\n probabilidad =\"+str(probabil)+\"\\\\n Decision =\"+str(archivo[\"exito\"].describe().top)+\"\\\"[style= filled,fillcolor=green];\\n\"\n",
        "      else: \n",
        "        cadena2 = \"\\\" RAIZ \\\\n probabilidad =\"+str(probabil)+\"\\\\n Decision =\"+str(archivo[\"exito\"].describe().top)+\"\\\"[style= filled,fillcolor=red];\\n\"\n",
        "      dot.write(cadena2)\n",
        "      return\n",
        "    elif x[2]==\"\" or iterador == profundidad or target==0:\n",
        "      padre2 = tree.agregar([Question(x[2],x[1]),x[0],probabil],padre,valor,archivo[\"exito\"].describe().top)\n",
        "      cadena = \"\\\"\"+padre.pregunta.imprimir+\" \\\\n probabilidad =\"+str(padre.probabilidad)+\"\\\" -> \\\" Hoja \\\\n probabilidad =\"+str(probabil)+\"\\\\n Decision =\"+str(archivo[\"exito\"].describe().top)+\" \\\";\\n\"\n",
        "      dot.write(cadena)\n",
        "      if archivo[\"exito\"].describe().top == True:\n",
        "        cadena2 = \"\\\" Hoja \\\\n probabilidad =\"+str(probabil)+\"\\\\n Decision =\"+str(archivo[\"exito\"].describe().top)+\" \\\" [style= filled,fillcolor=green];\\n\"\n",
        "      else: \n",
        "        cadena2 = \"\\\" Hoja \\\\n probabilidad =\"+str(probabil)+\"\\\\n Decision =\"+str(archivo[\"exito\"].describe().top)+\" \\\" [style= filled,fillcolor=red];\\n\"\n",
        "      dot.write(cadena2)\n",
        "      return\n",
        "    else:\n",
        "      padre2 = tree.agregar([Question(x[2],x[1]),x[0],probabil],padre,valor)\n",
        "      if padre!=None:\n",
        "        cadena = \"\\\"\"+padre.pregunta.imprimir+\" \\\\n probabilidad =\"+str(padre.probabilidad)+\"\\\" -> \\\"\"+ Question(x[2],x[1]).imprimir+\" \\\\n probabilidad =\"+str(probabil)+\"\\\";\\n\"\n",
        "        dot.write(cadena)\n",
        "      false ,true = partition(x[2],x[1],archivo)\n",
        "      filtro = (false['exito']==True)\n",
        "      proba = pd.DataFrame(false.loc[filtro])\n",
        "      proba = proba[proba.columns[0]].size\n",
        "      probabilidad = (proba*100)/false[false.columns[0]].size\n",
        "\n",
        "      filtro1 = (true['exito']==True)\n",
        "      proba1 = pd.DataFrame(true.loc[filtro1])\n",
        "      proba1 = proba1[proba1.columns[0]].size\n",
        "      probabilidad1 = (proba1*100)/true[true.columns[0]].size\n",
        "\n",
        "      targetFalse = targetcalculate(false)\n",
        "      calcularMejorDiv(profundidad,dot,false,targetFalse,iterador+1,padre2,round(probabilidad,2),False)\n",
        "      \n",
        "      targetTrue = targetcalculate(true)\n",
        "      calcularMejorDiv(profundidad,dot,true,targetTrue,iterador+1,padre2,round(probabilidad1,2),True)"
      ],
      "execution_count": 14,
      "outputs": []
    },
    {
      "cell_type": "code",
      "metadata": {
        "id": "dhC-Sn3p9Ylu"
      },
      "source": [
        "def crearMatriz(predicVerdad,predicFals,verdaderosTamanio,falsosTamanio):\n",
        "    TP, TN, FP, FN = 0,0,0,0\n",
        "    if predicVerdad<verdaderosTamanio and predicFals<falsosTamanio:\n",
        "      TP = predicVerdad\n",
        "      TN = predicFals\n",
        "      FP = verdaderosTamanio - predicVerdad\n",
        "      FN = falsosTamanio - predicFals\n",
        "    elif predicVerdad>verdaderosTamanio and predicFals<falsosTamanio:\n",
        "      TP = verdaderosTamanio\n",
        "      TN = predicFals\n",
        "      FN = falsosTamanio - predicFals\n",
        "    elif predicVerdad<verdaderosTamanio and predicFals>falsosTamanio:\n",
        "      TP = predicVerdad\n",
        "      TN = falsosTamanio\n",
        "      FP = verdaderosTamanio - predicVerdad\n",
        "    elif  predicVerdad==verdaderosTamanio and predicFals==falsosTamanio:\n",
        "      TP = predicVerdad\n",
        "      TN = predicFals\n",
        "    matrizDeConfusion = np.array([[TP,TN],[FP,FN]])\n",
        "    exactitud = ((TP +TN) / (TP + TN + FP + FN))*100\n",
        "    return exactitud,matrizDeConfusion\n"
      ],
      "execution_count": 15,
      "outputs": []
    },
    {
      "cell_type": "markdown",
      "metadata": {
        "id": "QpO5Tz_L4UAX"
      },
      "source": [
        "# **Principal**"
      ]
    },
    {
      "cell_type": "code",
      "metadata": {
        "id": "QvT1FUfWFhPy"
      },
      "source": [
        "def correr(nombreArchivo,profundidad):\n",
        "  entrada = datos(nombreArchivo)\n",
        "  entrenamiento,x_prueba = seleccionarDatos(entrada)\n",
        "  y_prueba = x_prueba[[\"estu_consecutivo.1\",\"exito\"]]\n",
        "  target = targetcalculate(entrenamiento)\n",
        "  if profundidad!=1:\n",
        "    archi1=open(\"Arbol.txt\",\"w\") \n",
        "    archi1.write(\"digraph arbol{\\n\")\n",
        "    calcularMejorDiv(profundidad,archi1,entrenamiento,target,1)\n",
        "    archi1.write(\"}\\n\")\n",
        "    predicVerdad,predicFals = predicciones(x_prueba,y_prueba)\n",
        "\n",
        "    filtro = (x_prueba['exito']==True)\n",
        "    verdaderos = pd.DataFrame(x_prueba.loc[filtro])\n",
        "    verdaderosTamanio = verdaderos[verdaderos.columns[0]].size\n",
        "\n",
        "    filtro1 = (x_prueba['exito']==False)\n",
        "    falsos = pd.DataFrame(x_prueba.loc[filtro1])\n",
        "    falsosTamanio = falsos[falsos.columns[0]].size\n",
        "    exac,matrizDeConfusion = crearMatriz(predicVerdad,predicFals,verdaderosTamanio,falsosTamanio)\n",
        "    print(\"Exactitud\",exac,\"%\")\n",
        "    print(matrizDeConfusion)\n",
        "  else:\n",
        "    archi1=open(\"Arbol.txt\",\"w\") \n",
        "    archi1.write(\"digraph arbol{\\n\")\n",
        "    calcularMejorDiv(profundidad,archi1,entrenamiento,target,1)\n",
        "    archi1.write(\"}\\n\")\n",
        "    print(\"Como solo se genero la raiz, entonces no hay matriz de confusion y no se asigna exactitud\")"
      ],
      "execution_count": 16,
      "outputs": []
    },
    {
      "cell_type": "code",
      "metadata": {
        "id": "dSbceKedtak4"
      },
      "source": [
        "def correr2(archivoTrain,archivoTest,profundidad):\n",
        "  entrenamiento = datosEntrenamiento(archivoTrain)\n",
        "  x_prueba = datos(archivoTest)\n",
        "  y_prueba = x_prueba[[\"estu_consecutivo.1\",\"exito\"]]\n",
        "  target = targetcalculate(entrenamiento)\n",
        "  if profundidad !=1:\n",
        "    archi1=open(\"Arbol2.txt\",\"w\") \n",
        "    archi1.write(\"digraph arbol{\\n\")\n",
        "    calcularMejorDiv(profundidad,archi1,entrenamiento,target,1)\n",
        "    archi1.write(\"}\\n\")\n",
        "\n",
        "    predicVerdad,predicFals = predicciones(x_prueba,y_prueba)\n",
        "\n",
        "    filtro = (x_prueba['exito']==True)\n",
        "    verdaderos = pd.DataFrame(x_prueba.loc[filtro])\n",
        "    verdaderosTamanio = verdaderos[verdaderos.columns[0]].size\n",
        "\n",
        "    filtro1 = (x_prueba['exito']==False)\n",
        "    falsos = pd.DataFrame(x_prueba.loc[filtro1])\n",
        "    falsosTamanio = falsos[falsos.columns[0]].size\n",
        "    exac,matrizDeConfusion = crearMatriz(predicVerdad,predicFals,verdaderosTamanio,falsosTamanio)\n",
        "    print(\"Exactitud\",exac,\"%\")\n",
        "    print(matrizDeConfusion)\n",
        "  else:\n",
        "    archi1=open(\"Arbol2.txt\",\"w\") \n",
        "    archi1.write(\"digraph arbol{\\n\")\n",
        "    calcularMejorDiv(profundidad,archi1,entrenamiento,target,1)\n",
        "    archi1.write(\"}\\n\")\n",
        "    print(\"Como solo se genero la raiz, entonces no hay matriz de confusion y no se asigna exactitud\")"
      ],
      "execution_count": 17,
      "outputs": []
    },
    {
      "cell_type": "code",
      "metadata": {
        "colab": {
          "base_uri": "https://localhost:8080/"
        },
        "id": "LEFOKDaNtrhq",
        "outputId": "c1d973aa-72fe-4181-ec37-d6eee7641dc8"
      },
      "source": [
        "correr(\"TRAIN 4\",3)"
      ],
      "execution_count": 19,
      "outputs": [
        {
          "output_type": "stream",
          "text": [
            "Exactitud 71.96232339089482 %\n",
            "[[ 942 1350]\n",
            " [ 676  217]]\n"
          ],
          "name": "stdout"
        }
      ]
    },
    {
      "cell_type": "code",
      "metadata": {
        "colab": {
          "base_uri": "https://localhost:8080/"
        },
        "id": "rYWm6jDvCVaH",
        "outputId": "488e6db4-2d1c-43f0-d92e-bedf1790c40c"
      },
      "source": [
        "correr2(\"TRAIN 4\",\"TEST 4\",3)"
      ],
      "execution_count": null,
      "outputs": [
        {
          "output_type": "stream",
          "text": [
            "Exactitud 73.16 %\n",
            "[[13486 19436]\n",
            " [ 9032  3046]]\n"
          ],
          "name": "stdout"
        }
      ]
    },
    {
      "cell_type": "code",
      "metadata": {
        "colab": {
          "base_uri": "https://localhost:8080/"
        },
        "id": "87KdDpNkerxS",
        "outputId": "481f905a-abff-44e9-eb11-2ebf819e26e1"
      },
      "source": [
        "tree.retornarRaiz().pregunta"
      ],
      "execution_count": null,
      "outputs": [
        {
          "output_type": "execute_result",
          "data": {
            "text/plain": [
              "Es punt_ingles >= 52.34?"
            ]
          },
          "metadata": {
            "tags": []
          },
          "execution_count": 151
        }
      ]
    },
    {
      "cell_type": "markdown",
      "metadata": {
        "id": "gFkXdU6gayF9"
      },
      "source": [
        "#**Pruebas**\n"
      ]
    },
    {
      "cell_type": "code",
      "metadata": {
        "id": "Um0gfDcCGQvn"
      },
      "source": [
        "#f,t = partition(\"fami_numlibros\",\"26 A 100 LIBROS\",archivo)# asi se hace unaparticion"
      ],
      "execution_count": null,
      "outputs": []
    },
    {
      "cell_type": "code",
      "metadata": {
        "id": "epaLOIeFRnUD"
      },
      "source": [
        "a = archivo[archivo.columns[0]].size #calcula el tamaño de filas de un dataframe"
      ],
      "execution_count": null,
      "outputs": []
    },
    {
      "cell_type": "code",
      "metadata": {
        "id": "Mo0iS0pKeqJ3"
      },
      "source": [
        "x = range(0,archivo.columns.size-2)#rango de las columnas"
      ],
      "execution_count": null,
      "outputs": []
    },
    {
      "cell_type": "code",
      "metadata": {
        "id": "JqlpeM7WRrCU"
      },
      "source": [
        "y = archivo.mean().iloc[0]#calcula el promedio de una columna denotada por el iloc"
      ],
      "execution_count": null,
      "outputs": []
    }
  ]
}